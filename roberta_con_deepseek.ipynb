{
 "cells": [
  {
   "cell_type": "code",
   "execution_count": 1,
   "metadata": {},
   "outputs": [
    {
     "name": "stderr",
     "output_type": "stream",
     "text": [
      "c:\\Users\\euroc\\OneDrive\\Escritorio\\U\\Grad\\.venv\\Lib\\site-packages\\tqdm\\auto.py:21: TqdmWarning: IProgress not found. Please update jupyter and ipywidgets. See https://ipywidgets.readthedocs.io/en/stable/user_install.html\n",
      "  from .autonotebook import tqdm as notebook_tqdm\n",
      "Device set to use cuda:0\n"
     ]
    }
   ],
   "source": [
    "from transformers import pipeline\n",
    "\n",
    "qa_pipeline = pipeline(\"question-answering\", model=\"deepset/roberta-base-squad2\")"
   ]
  },
  {
   "cell_type": "code",
   "execution_count": 2,
   "metadata": {},
   "outputs": [],
   "source": [
    "contexto = \"\"\"\n",
    "# Version 1.0.0\n",
    "- Initial release with basic features.\n",
    "- Added homepage and navigation bar.\n",
    "- Implemented user login and registration system.\n",
    "\n",
    "# Version 1.1.0\n",
    "- Improved user interface for better mobile responsiveness.\n",
    "- Fixed bug with login session expiration.\n",
    "- Added \"Forgot Password\" functionality.\n",
    "\n",
    "# Version 1.2.0\n",
    "- Introduced dark mode feature.\n",
    "- Enhanced performance for faster page load times.\n",
    "- Added error handling for invalid user inputs.\n",
    "\n",
    "# Version 1.3.0\n",
    "- Added search functionality for user profiles.\n",
    "- Refined database queries for optimization.\n",
    "- Fixed minor CSS styling issues in the footer section.\n",
    "\n",
    "# Version 1.4.0\n",
    "- Integrated third-party payment gateway.\n",
    "- Implemented email notifications for account updates.\n",
    "- Upgraded backend to Python 3.9 for better security.\n",
    "\"\"\""
   ]
  },
  {
   "cell_type": "code",
   "execution_count": 3,
   "metadata": {},
   "outputs": [
    {
     "name": "stdout",
     "output_type": "stream",
     "text": [
      "Respuesta: 1.2.0\n"
     ]
    }
   ],
   "source": [
    "pregunta = input(\"Pregunta: \")\n",
    "    \n",
    "respuesta = qa_pipeline(question=pregunta, context=contexto)\n",
    "print(\"Respuesta:\", respuesta[\"answer\"])"
   ]
  },
  {
   "cell_type": "code",
   "execution_count": 4,
   "metadata": {},
   "outputs": [
    {
     "name": "stdout",
     "output_type": "stream",
     "text": [
      "Error: 400 {\"error\":\"The model has crashed without additional information. (Exit code: 18446744072635812000)\"}\n"
     ]
    }
   ],
   "source": [
    "import requests\n",
    "\n",
    "# Get the answer from RoBERTa\n",
    "respuesta_roberta = qa_pipeline(question=pregunta, context=contexto)[\"answer\"]\n",
    "\n",
    "# Prepare data for DeepSeek\n",
    "data = {\n",
    "    \"prompt\": f\"Reformulate the following text: '{respuesta_roberta}' into a more professional tone. Do not add any new information or explanations.\",\n",
    "    \"max_tokens\": 200,\n",
    "    \"temperature\": 0.2,\n",
    "    \"messages\":[\n",
    "        {\"role\": \"user\", \"content\": pregunta},\n",
    "    ]\n",
    "}\n",
    "\n",
    "# Send the data to DeepSeek for better formulation\n",
    "url = \"http://127.0.0.1:1234/v1/chat/completions\"\n",
    "response = requests.post(url, json=data)\n",
    "\n",
    "if response.status_code == 200:\n",
    "    respuesta_deepseek = response.json()\n",
    "    print(\"Respuesta formulada:\", respuesta_deepseek[\"choices\"][0][\"message\"][\"content\"])\n",
    "else:\n",
    "    print(\"Error:\", response.status_code, response.text)"
   ]
  }
 ],
 "metadata": {
  "kernelspec": {
   "display_name": ".venv",
   "language": "python",
   "name": "python3"
  },
  "language_info": {
   "codemirror_mode": {
    "name": "ipython",
    "version": 3
   },
   "file_extension": ".py",
   "mimetype": "text/x-python",
   "name": "python",
   "nbconvert_exporter": "python",
   "pygments_lexer": "ipython3",
   "version": "3.12.9"
  }
 },
 "nbformat": 4,
 "nbformat_minor": 2
}
