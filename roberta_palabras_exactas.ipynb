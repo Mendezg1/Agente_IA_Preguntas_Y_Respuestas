{
 "cells": [
  {
   "cell_type": "code",
   "execution_count": null,
   "metadata": {},
   "outputs": [],
   "source": [
    "from transformers import pipeline\n",
    "\n",
    "qa_pipeline = pipeline(\"question-answering\", model=\"deepset/roberta-base-squad2\")"
   ]
  },
  {
   "cell_type": "code",
   "execution_count": null,
   "metadata": {},
   "outputs": [],
   "source": [
    "contexto = \"\"\"\n",
    "# Version 1.0.0\n",
    "- Initial release with basic features.\n",
    "- Added homepage and navigation bar.\n",
    "- Implemented user login and registration system.\n",
    "\n",
    "# Version 1.1.0\n",
    "- Improved user interface for better mobile responsiveness.\n",
    "- Fixed bug with login session expiration.\n",
    "- Added \"Forgot Password\" functionality.\n",
    "\n",
    "# Version 1.2.0\n",
    "- Introduced dark mode feature.\n",
    "- Enhanced performance for faster page load times.\n",
    "- Added error handling for invalid user inputs.\n",
    "\n",
    "# Version 1.3.0\n",
    "- Added search functionality for user profiles.\n",
    "- Refined database queries for optimization.\n",
    "- Fixed minor CSS styling issues in the footer section.\n",
    "\n",
    "# Version 1.4.0\n",
    "- Integrated third-party payment gateway.\n",
    "- Implemented email notifications for account updates.\n",
    "- Upgraded backend to Python 3.9 for better security.\n",
    "\"\"\""
   ]
  },
  {
   "cell_type": "code",
   "execution_count": null,
   "metadata": {},
   "outputs": [],
   "source": [
    "\n",
    "pregunta = input(\"Pregunta: \")\n",
    "respuesta = qa_pipeline(question=pregunta, context=contexto)\n",
    "\n",
    "exact_words = set(pregunta.lower().split())  # Extraccion de las palabras de la pregunta\n",
    "answer_words = set(respuesta[\"answer\"].lower().split())  # Extraccion de las palabras de la respuesta\n",
    "\n",
    "match_ratio = len(exact_words & answer_words) / len(exact_words)  \n",
    "boosted_score = respuesta[\"score\"] * (1 + match_ratio)  # Aumento de la puntuacion en funcion de la similitud\n",
    "\n",
    "print(f\"Respuesta: {respuesta['answer']} (Boosted Score: {boosted_score:.4f})\")"
   ]
  }
 ],
 "metadata": {
  "language_info": {
   "name": "python"
  }
 },
 "nbformat": 4,
 "nbformat_minor": 2
}
